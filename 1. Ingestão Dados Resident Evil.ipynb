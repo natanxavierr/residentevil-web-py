{
 "cells": [
  {
   "cell_type": "markdown",
   "metadata": {
    "application/vnd.databricks.v1+cell": {
     "cellMetadata": {
      "byteLimit": 2048000,
      "rowLimit": 10000
     },
     "inputWidgets": {},
     "nuid": "c11f9c95-37a9-4b0a-bdcf-73965f74e76f",
     "showTitle": false,
     "tableResultSettingsMap": {},
     "title": ""
    }
   },
   "source": [
    "ESSE PROJETO JÁ É DIFERENTE NÃO É UMA API, MAS SIM BUSCANDO DADOS DE UM SITE https://www.residentevildatabase.com/personagens/ada-wong/ E USANDO O INSPECIONAR OU F12\n",
    "\n",
    "SERIA ALGO PARECIDO COM O SELENIUN QUE FAZ PASSO A PASSO O CAMINHO DO SEU MOUSE\n",
    "\n",
    "https://curlconverter.com/\n",
    "\n",
    "SITES CONSTRUIDOS EM JAVA SCRIPT PODE SER MAIS COMPLEXOS"
   ]
  },
  {
   "cell_type": "code",
   "execution_count": 0,
   "metadata": {
    "application/vnd.databricks.v1+cell": {
     "cellMetadata": {
      "byteLimit": 2048000,
      "rowLimit": 10000
     },
     "inputWidgets": {},
     "nuid": "a7f8e677-2405-407f-a686-74cfbf209e8c",
     "showTitle": true,
     "tableResultSettingsMap": {},
     "title": "Request WEB"
    }
   },
   "outputs": [],
   "source": [
    "import requests  # Importa a biblioteca para fazer requisições HTTP\n",
    "%pip install beautifulsoup4\n",
    "from bs4 import BeautifulSoup  # Importa a biblioteca para parsear HTML\n",
    "import pandas as pd\n",
    "\n",
    "## PARA PEGAR O CÓDIGO HTML DO SITE BASTA IR EM FERRAMENTAS DO DEV OU F12 IR EM NETWORK E DAR CTRL R E COPIAR AS CURL\n",
    "## APÓS PROCURAR NO GOOGLE CURL TO PYTHON PARA CONVERTER O COPIADO ACIMA\n",
    "\n",
    "# Definição do cabeçalho HTTP para simular um navegador real\n",
    "HEADERS = {\n",
    "    'accept': 'text/html,application/xhtml+xml,application/xml;q=0.9,image/avif,image/webp,image/apng,*/*;q=0.8,application/signed-exchange;v=b3;q=0.7',\n",
    "    'accept-language': 'pt-BR,pt;q=0.9,en-US;q=0.8,en;q=0.7',\n",
    "    'cache-control': 'max-age=0',\n",
    "    'referer': 'https://www.residentevildatabase.com/personagens/',\n",
    "    'sec-ch-ua': '\"Not(A:Brand\";v=\"99\", \"Google Chrome\";v=\"133\", \"Chromium\";v=\"133\"',\n",
    "    'sec-ch-ua-mobile': '?0',\n",
    "    'sec-ch-ua-platform': '\"Windows\"',\n",
    "    'sec-fetch-dest': 'document',\n",
    "    'sec-fetch-mode': 'navigate',\n",
    "    'sec-fetch-site': 'same-origin',\n",
    "    'sec-fetch-user': '?1',\n",
    "    'upgrade-insecure-requests': '1',\n",
    "    'user-agent': 'Mozilla/5.0 (Windows NT 10.0; Win64; x64) AppleWebKit/537.36 (KHTML, like Gecko) Chrome/133.0.0.0 Safari/537.36'\n",
    "}\n",
    "\n",
    "def get_content(url):\n",
    "    \"\"\"\n",
    "    Faz uma requisição HTTP para a URL fornecida e retorna a resposta.\n",
    "    \"\"\"\n",
    "    try:\n",
    "        resp = requests.get(url, headers=HEADERS, timeout=10)  # Timeout para evitar travamento\n",
    "        return resp\n",
    "    except requests.RequestException:\n",
    "        print(f\"Erro ao acessar: {url}\")\n",
    "        return None  # Retorna None em caso de erro na requisição\n",
    "\n",
    "def get_basic_infos(soup):\n",
    "    \"\"\"\n",
    "    Extrai informações básicas da página HTML.\n",
    "    \"\"\"\n",
    "    div_page = soup.find(\"div\", class_=\"td-page-content\")\n",
    "    if not div_page:\n",
    "        return {}\n",
    "\n",
    "    paragrafo = div_page.find_all(\"p\")[1]\n",
    "    em = paragrafo.find_all(\"em\")\n",
    "\n",
    "    data = {}\n",
    "    for i in em:\n",
    "        if \":\" in i.text:\n",
    "            chave, valor = i.text.split(\":\", 1)  # Divide apenas na primeira ocorrência de ':'\n",
    "            data[chave.strip()] = valor.strip()\n",
    "\n",
    "    return data\n",
    "\n",
    "def get_aparicoes(soup):\n",
    "    \"\"\"\n",
    "    Extrai lista de aparições do personagem nos filmes e jogos.\n",
    "    \"\"\"\n",
    "    h4 = soup.find(\"div\", class_=\"td-page-content\").find(\"h4\")\n",
    "    if not h4:\n",
    "        return []\n",
    "\n",
    "    ul = h4.find_next_sibling(\"ul\")  # Melhor para encontrar a lista correta\n",
    "    if not ul:\n",
    "        return []\n",
    "\n",
    "    aparicoes = [i.text.strip() for i in ul.find_all(\"li\")]\n",
    "    return aparicoes\n",
    "\n",
    "def get_personagem_infos(url):\n",
    "    \"\"\"\n",
    "    Obtém informações do personagem a partir da URL fornecida.\n",
    "    \"\"\"\n",
    "    resp = get_content(url)\n",
    "    if resp is None or resp.status_code != 200:\n",
    "        print(f\"Página removida ou erro ao acessar: {url}\")\n",
    "        return None  # Retorna None se a página não existir\n",
    "\n",
    "    try:\n",
    "        soup = BeautifulSoup(resp.text, \"html.parser\")  # Parseia o HTML da página\n",
    "        infos = get_basic_infos(soup)  # Extrai informações básicas\n",
    "        infos[\"Aparicoes\"] = get_aparicoes(soup)  # Extrai lista de aparições\n",
    "        return infos\n",
    "    except Exception as e:\n",
    "        print(f\"Erro ao processar {url}: {e}\")\n",
    "        return None  # Retorna None se der erro ao processar os dados\n",
    "\n",
    "def get_links():\n",
    "    \"\"\"\n",
    "    Obtém os links de todos os personagens na página principal.\n",
    "    \"\"\"\n",
    "    url = \"https://www.residentevildatabase.com/personagens/\"\n",
    "    resp = requests.get(url, headers=HEADERS)\n",
    "\n",
    "    if resp.status_code != 200:\n",
    "        print(\"Erro ao acessar a página de personagens.\")\n",
    "        return []\n",
    "\n",
    "    soup_personagens = BeautifulSoup(resp.text, \"html.parser\")  # Especificando o parser corretamente\n",
    "    link_a = soup_personagens.find(\"div\", class_=\"td-page-content\").find_all(\"a\", href=True)\n",
    "\n",
    "    links = [i[\"href\"] for i in link_a if i[\"href\"].startswith(\"https\")]\n",
    "    return links\n",
    "\n",
    "# Obtém os links de todos os personagens\n",
    "links = get_links()\n",
    "\n",
    "# Coleta as informações de cada personagem\n",
    "data = []\n",
    "for link in links:\n",
    "    personagem_info = get_personagem_infos(link)\n",
    "    if personagem_info is not None:  # Só adiciona se os dados forem válidos\n",
    "        personagem_info[\"Link\"] = link\n",
    "        nome = link.strip(\"/\").split(\"/\")[-1].replace(\".html\", \"\").replace(\"-\", \" \").title()\n",
    "        personagem_info[\"Nome\"] = nome\n",
    "        data.append(personagem_info)\n",
    "\n",
    "# Converte os dados para um DataFrame do Pandas\n",
    "df = pd.DataFrame(data)\n",
    "\n",
    "# Exibe os primeiros resultados\n",
    "display(df)\n",
    "\n"
   ]
  },
  {
   "cell_type": "code",
   "execution_count": 0,
   "metadata": {
    "application/vnd.databricks.v1+cell": {
     "cellMetadata": {
      "byteLimit": 2048000,
      "rowLimit": 10000
     },
     "inputWidgets": {},
     "nuid": "a8dc9731-5a05-4e6a-b902-c1ffb85bf6ea",
     "showTitle": true,
     "tableResultSettingsMap": {},
     "title": "Explode Coluna Aparições"
    }
   },
   "outputs": [],
   "source": [
    "\n",
    "df = df.explode(\"Aparicoes\")\n",
    "\n",
    "display(df)"
   ]
  },
  {
   "cell_type": "code",
   "execution_count": 0,
   "metadata": {
    "application/vnd.databricks.v1+cell": {
     "cellMetadata": {
      "byteLimit": 2048000,
      "rowLimit": 10000
     },
     "inputWidgets": {},
     "nuid": "d3ffa901-ea41-4cbe-bc65-b52048df358d",
     "showTitle": true,
     "tableResultSettingsMap": {},
     "title": "Salvando DF em uma Tabela"
    }
   },
   "outputs": [],
   "source": [
    "from pyspark.sql import SparkSession\n",
    "\n",
    "# Converter o DataFrame Pandas para um DataFrame Spark\n",
    "# Além disso, substitui espaços nos nomes das colunas por underscores (_)\n",
    "df_spark = spark.createDataFrame(df).toDF(*[c.replace(' ', '_') for c in df.columns])\n",
    "\n",
    "# Salvar a tabela no banco de dados 'resident_evil' no formato Delta\n",
    "# O nome da tabela parece estar repetido ('resident_evil.resident_evil.resident_evil_bronze'),\n",
    "# o que pode causar erro. Normalmente, o correto seria \"database.tabela\" (ex: 'resident_evil.resident_evil_bronze').\n",
    "df_spark.write.mode(\"overwrite\").format(\"delta\").saveAsTable(\"resident_evil.resident_evil.resident_evil_bronze\")\n"
   ]
  },
  {
   "cell_type": "code",
   "execution_count": 0,
   "metadata": {
    "application/vnd.databricks.v1+cell": {
     "cellMetadata": {
      "byteLimit": 2048000,
      "implicitDf": true,
      "rowLimit": 10000
     },
     "inputWidgets": {},
     "nuid": "d333224e-7076-4a64-8934-7d41577cba6d",
     "showTitle": true,
     "tableResultSettingsMap": {},
     "title": "Exibindo Tabela"
    }
   },
   "outputs": [],
   "source": [
    "%sql\n",
    "\n",
    "SELECT * FROM resident_evil.resident_evil.resident_evil_bronze"
   ]
  }
 ],
 "metadata": {
  "application/vnd.databricks.v1+notebook": {
   "computePreferences": null,
   "dashboards": [],
   "environmentMetadata": {
    "base_environment": "",
    "environment_version": "2"
   },
   "language": "python",
   "notebookMetadata": {
    "mostRecentlyExecutedCommandWithImplicitDF": {
     "commandId": 2813600492493732,
     "dataframes": [
      "_sqldf"
     ]
    },
    "pythonIndentUnit": 4
   },
   "notebookName": "1. Ingestão Dados Resident Evil",
   "widgets": {}
  },
  "language_info": {
   "name": "python"
  }
 },
 "nbformat": 4,
 "nbformat_minor": 0
}
